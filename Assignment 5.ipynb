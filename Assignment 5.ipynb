{
 "cells": [
  {
   "cell_type": "code",
   "execution_count": null,
   "id": "d191d4d0-2496-40d2-9ee3-dba4bfd7f9b4",
   "metadata": {},
   "outputs": [
    {
     "name": "stdout",
     "output_type": "stream",
     "text": [
      "   Item(s)            Item 1               Item 2          Item 3  \\\n",
      "0        4      citrus fruit  semi-finished bread       margarine   \n",
      "1        3    tropical fruit               yogurt          coffee   \n",
      "2        1        whole milk                  NaN             NaN   \n",
      "3        4         pip fruit               yogurt    cream cheese   \n",
      "4        4  other vegetables           whole milk  condensed milk   \n",
      "\n",
      "                     Item 4 Item 5 Item 6 Item 7 Item 8 Item 9  ... Item 23  \\\n",
      "0               ready soups    NaN    NaN    NaN    NaN    NaN  ...     NaN   \n",
      "1                       NaN    NaN    NaN    NaN    NaN    NaN  ...     NaN   \n",
      "2                       NaN    NaN    NaN    NaN    NaN    NaN  ...     NaN   \n",
      "3              meat spreads    NaN    NaN    NaN    NaN    NaN  ...     NaN   \n",
      "4  long life bakery product    NaN    NaN    NaN    NaN    NaN  ...     NaN   \n",
      "\n",
      "  Item 24 Item 25 Item 26 Item 27 Item 28 Item 29 Item 30 Item 31 Item 32  \n",
      "0     NaN     NaN     NaN     NaN     NaN     NaN     NaN     NaN     NaN  \n",
      "1     NaN     NaN     NaN     NaN     NaN     NaN     NaN     NaN     NaN  \n",
      "2     NaN     NaN     NaN     NaN     NaN     NaN     NaN     NaN     NaN  \n",
      "3     NaN     NaN     NaN     NaN     NaN     NaN     NaN     NaN     NaN  \n",
      "4     NaN     NaN     NaN     NaN     NaN     NaN     NaN     NaN     NaN  \n",
      "\n",
      "[5 rows x 33 columns]\n"
     ]
    }
   ],
   "source": [
    "import pandas as pd\n",
    "\n",
    "# Load the dataset\n",
    "df = pd.read_csv('groceries-groceries.csv', on_bad_lines='skip')\n",
    "\n",
    "# Preview the first few rows\n",
    "print(df.head())"
   ]
  },
  {
   "cell_type": "code",
   "execution_count": 20,
   "id": "9ff1c9f9-07ab-4f4a-9bf0-00c61092f619",
   "metadata": {},
   "outputs": [],
   "source": [
    "# Step 2: Convert rows to list of items (ignoring NaN/empty cells)\n",
    "transactions = df.drop('Item(s)', axis=1).values.tolist()\n",
    "transactions = [[item for item in transaction if pd.notna(item)] for transaction in transactions]"
   ]
  },
  {
   "cell_type": "code",
   "execution_count": 21,
   "id": "da184ba0-0dd3-4992-aed7-7ea6968a91e0",
   "metadata": {},
   "outputs": [],
   "source": [
    "# Step 3: Encode the transaction data\n",
    "te = TransactionEncoder()\n",
    "te_array = te.fit(transactions).transform(transactions)\n",
    "df_encoded = pd.DataFrame(te_array, columns=te.columns_)"
   ]
  },
  {
   "cell_type": "code",
   "execution_count": 22,
   "id": "8edde5dd-78dc-42c8-adf2-2d771261d160",
   "metadata": {},
   "outputs": [],
   "source": [
    "# Step 4: Apply Apriori to find frequent itemsets\n",
    "frequent_itemsets = apriori(df_encoded, min_support=0.03, use_colnames=True)"
   ]
  },
  {
   "cell_type": "code",
   "execution_count": 23,
   "id": "adc0dcc9-3c93-4121-8cf3-ca621b779185",
   "metadata": {},
   "outputs": [],
   "source": [
    "# Step 5: Generate association rules\n",
    "rules = association_rules(frequent_itemsets, metric=\"lift\", min_threshold=1)"
   ]
  },
  {
   "cell_type": "code",
   "execution_count": 24,
   "id": "1e506249-eeab-48c4-9a10-0731a5f46bdc",
   "metadata": {},
   "outputs": [
    {
     "name": "stdout",
     "output_type": "stream",
     "text": [
      "             antecedents           consequents  antecedent support  \\\n",
      "6     (other vegetables)     (root vegetables)            0.193493   \n",
      "7      (root vegetables)    (other vegetables)            0.108998   \n",
      "19             (sausage)          (rolls/buns)            0.093950   \n",
      "18          (rolls/buns)             (sausage)            0.183935   \n",
      "9     (other vegetables)      (tropical fruit)            0.193493   \n",
      "8       (tropical fruit)    (other vegetables)            0.104931   \n",
      "31  (whipped/sour cream)          (whole milk)            0.071683   \n",
      "30          (whole milk)  (whipped/sour cream)            0.255516   \n",
      "26          (whole milk)     (root vegetables)            0.255516   \n",
      "27     (root vegetables)          (whole milk)            0.108998   \n",
      "\n",
      "    consequent support   support  confidence      lift  representativity  \\\n",
      "6             0.108998  0.047382    0.244877  2.246605               1.0   \n",
      "7             0.193493  0.047382    0.434701  2.246605               1.0   \n",
      "19            0.183935  0.030605    0.325758  1.771048               1.0   \n",
      "18            0.093950  0.030605    0.166390  1.771048               1.0   \n",
      "9             0.104931  0.035892    0.185497  1.767790               1.0   \n",
      "8             0.193493  0.035892    0.342054  1.767790               1.0   \n",
      "31            0.255516  0.032232    0.449645  1.759754               1.0   \n",
      "30            0.071683  0.032232    0.126144  1.759754               1.0   \n",
      "26            0.108998  0.048907    0.191405  1.756031               1.0   \n",
      "27            0.255516  0.048907    0.448694  1.756031               1.0   \n",
      "\n",
      "    leverage  conviction  zhangs_metric   jaccard  certainty  kulczynski  \n",
      "6   0.026291    1.179941       0.688008  0.185731   0.152500    0.339789  \n",
      "7   0.026291    1.426693       0.622764  0.185731   0.299078    0.339789  \n",
      "19  0.013324    1.210344       0.480506  0.123766   0.173788    0.246074  \n",
      "18  0.013324    1.086899       0.533490  0.123766   0.079952    0.246074  \n",
      "9   0.015589    1.098913       0.538522  0.136716   0.090010    0.263775  \n",
      "8   0.015589    1.225796       0.485239  0.136716   0.184204    0.263775  \n",
      "31  0.013916    1.352735       0.465077  0.109273   0.260757    0.287895  \n",
      "30  0.013916    1.062323       0.579917  0.109273   0.058667    0.287895  \n",
      "26  0.021056    1.101913       0.578298  0.154961   0.092487    0.320049  \n",
      "27  0.021056    1.350401       0.483202  0.154961   0.259479    0.320049  \n"
     ]
    }
   ],
   "source": [
    "# Step 6: Output top rules\n",
    "print(rules.sort_values(by=\"lift\", ascending=False).head(10))"
   ]
  }
 ],
 "metadata": {
  "kernelspec": {
   "display_name": "Python 3 (ipykernel)",
   "language": "python",
   "name": "python3"
  },
  "language_info": {
   "codemirror_mode": {
    "name": "ipython",
    "version": 3
   },
   "file_extension": ".py",
   "mimetype": "text/x-python",
   "name": "python",
   "nbconvert_exporter": "python",
   "pygments_lexer": "ipython3",
   "version": "3.11.3"
  }
 },
 "nbformat": 4,
 "nbformat_minor": 5
}
