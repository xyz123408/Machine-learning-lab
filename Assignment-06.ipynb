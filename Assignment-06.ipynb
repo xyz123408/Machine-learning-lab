{
  "cells": [
    {
      "cell_type": "code",
      "source": [
        "# Naive Bayes Classification Assignment\n",
        "# Dataset: Adult Income (Census)\n",
        "\n",
        "import pandas as pd\n",
        "import numpy as np\n",
        "import matplotlib.pyplot as plt\n",
        "import seaborn as sns\n",
        "\n",
        "from sklearn.model_selection import train_test_split\n",
        "from sklearn.preprocessing import LabelEncoder\n",
        "from sklearn.naive_bayes import GaussianNB\n",
        "from sklearn.metrics import (\n",
        "    accuracy_score, precision_score, recall_score, f1_score,\n",
        "    confusion_matrix, classification_report\n",
        ")\n",
        "\n",
        "# Step 1: Load dataset with correct headers\n",
        "column_names = [\n",
        "    \"age\", \"workclass\", \"fnlwgt\", \"education\", \"education-num\", \"marital-status\",\n",
        "    \"occupation\", \"relationship\", \"race\", \"sex\", \"capital-gain\", \"capital-loss\",\n",
        "    \"hours-per-week\", \"native-country\", \"income\"\n",
        "]\n",
        "df = pd.read_csv(\"adult.csv\", header=None, names=column_names, skipinitialspace=True)\n",
        "\n",
        "# Step 2: Handle missing values represented by '?'\n",
        "df.replace('?', np.nan, inplace=True)\n",
        "df.dropna(inplace=True)\n",
        "\n",
        "# Step 3: Encode categorical features\n",
        "label_encoders = {}\n",
        "for col in df.select_dtypes(include='object').columns:\n",
        "    le = LabelEncoder()\n",
        "    df[col] = le.fit_transform(df[col])\n",
        "    label_encoders[col] = le\n",
        "\n",
        "# Step 4: Train-test split\n",
        "X = df.drop(\"income\", axis=1)\n",
        "y = df[\"income\"]\n",
        "X_train, X_test, y_train, y_test = train_test_split(X, y, test_size=0.3, random_state=42)\n",
        "\n",
        "# Step 5: Train Naive Bayes model\n",
        "model = GaussianNB()\n",
        "model.fit(X_train, y_train)\n",
        "\n",
        "# Step 6: Make predictions\n",
        "y_pred = model.predict(X_test)\n",
        "\n",
        "# Step 7: Evaluate performance\n",
        "accuracy = accuracy_score(y_test, y_pred)\n",
        "precision = precision_score(y_test, y_pred)\n",
        "recall = recall_score(y_test, y_pred)\n",
        "f1 = f1_score(y_test, y_pred)\n",
        "\n",
        "print(\"=== Model Evaluation ===\")\n",
        "print(\"Accuracy: {:.2f}%\".format(accuracy * 100))\n",
        "print(\"Precision:\", precision)\n",
        "print(\"Recall:\", recall)\n",
        "print(\"F1 Score:\", f1)\n",
        "print(\"\\nClassification Report:\\n\", classification_report(y_test, y_pred))\n",
        "\n",
        "# Step 8: Confusion matrix visualization\n",
        "cm = confusion_matrix(y_test, y_pred)\n",
        "plt.figure(figsize=(6, 4))\n",
        "sns.heatmap(cm, annot=True, fmt='d', cmap='Blues')\n",
        "plt.title('Confusion Matrix')\n",
        "plt.xlabel('Predicted')\n",
        "plt.ylabel('Actual')\n",
        "plt.tight_layout()\n",
        "plt.show()\n",
        "\n",
        "# Step 9: Test on a few samples\n",
        "print(\"\\n=== Sample Test Predictions ===\")\n",
        "sample_test = X_test.iloc[:5]\n",
        "true_labels = y_test.iloc[:5].values\n",
        "predicted_labels = model.predict(sample_test)\n",
        "\n",
        "sample_results = pd.DataFrame({\n",
        "    \"Actual\": true_labels,\n",
        "    \"Predicted\": predicted_labels\n",
        "})\n",
        "print(sample_results)\n"
      ],
      "metadata": {
        "id": "nOBK6TXmhYFr",
        "outputId": "f6ebd2cc-4d42-4fdb-d0eb-48388c1fb02e",
        "colab": {
          "base_uri": "https://localhost:8080/",
          "height": 823
        }
      },
      "execution_count": 2,
      "outputs": [
        {
          "output_type": "stream",
          "name": "stdout",
          "text": [
            "=== Model Evaluation ===\n",
            "Accuracy: 78.62%\n",
            "Precision: 0.662605435801312\n",
            "Recall: 0.3098159509202454\n",
            "F1 Score: 0.42221558674231113\n",
            "\n",
            "Classification Report:\n",
            "               precision    recall  f1-score   support\n",
            "\n",
            "           0       0.80      0.95      0.87      6767\n",
            "           1       0.66      0.31      0.42      2282\n",
            "\n",
            "    accuracy                           0.79      9049\n",
            "   macro avg       0.73      0.63      0.65      9049\n",
            "weighted avg       0.77      0.79      0.76      9049\n",
            "\n"
          ]
        },
        {
          "output_type": "display_data",
          "data": {
            "text/plain": [
              "<Figure size 600x400 with 2 Axes>"
            ],
            "image/png": "[encoded data removed]"
          },
          "metadata": {}
        },
        {
          "output_type": "stream",
          "name": "stdout",
          "text": [
            "\n",
            "=== Sample Test Predictions ===\n",
            "   Actual  Predicted\n",
            "0       1          0\n",
            "1       0          0\n",
            "2       1          0\n",
            "3       0          0\n",
            "4       0          0\n"
          ]
        }
      ]
    },
    {
      "cell_type": "code",
      "source": [],
      "metadata": {
        "id": "NQ08tTOkiAoS"
      },
      "execution_count": null,
      "outputs": []
    }
  ],
  "metadata": {
    "kernelspec": {
      "display_name": "Python 3",
      "language": "python",
      "name": "python3"
    },
    "language_info": {
      "codemirror_mode": {
        "name": "ipython",
        "version": 3
      },
      "file_extension": ".py",
      "mimetype": "text/x-python",
      "name": "python",
      "nbconvert_exporter": "python",
      "pygments_lexer": "ipython3",
      "version": "3.8.8"
    },
    "colab": {
      "provenance": []
    }
  },
  "nbformat": 4,
  "nbformat_minor": 0
}